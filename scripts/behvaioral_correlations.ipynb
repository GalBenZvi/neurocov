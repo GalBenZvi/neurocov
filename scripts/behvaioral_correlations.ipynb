{
 "cells": [
  {
   "cell_type": "markdown",
   "metadata": {},
   "source": []
  },
  {
   "cell_type": "code",
   "execution_count": 25,
   "metadata": {},
   "outputs": [],
   "source": [
    "import pandas as pd\n",
    "\n",
    "data = pd.read_pickle('../data/data_combined.pickle')\n",
    "data = data.query(\"metric == 'md'\")\n",
    "# Get the behavioral (i.e, non-MRI) data\n",
    "behav_columns = data.columns.to_list()[:2]+data.columns.to_list()[277:]\n",
    "behav_data = data[behav_columns]"
   ]
  }
 ],
 "metadata": {
  "kernelspec": {
   "display_name": "Python 3.9.2 ('venv': venv)",
   "language": "python",
   "name": "python3"
  },
  "language_info": {
   "codemirror_mode": {
    "name": "ipython",
    "version": 3
   },
   "file_extension": ".py",
   "mimetype": "text/x-python",
   "name": "python",
   "nbconvert_exporter": "python",
   "pygments_lexer": "ipython3",
   "version": "3.9.2"
  },
  "orig_nbformat": 4,
  "vscode": {
   "interpreter": {
    "hash": "18112318e1e5c66abc775daed63e59cc52f7d3c2b877d968331c853d0331fe5f"
   }
  }
 },
 "nbformat": 4,
 "nbformat_minor": 2
}
