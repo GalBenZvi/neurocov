{
 "cells": [
  {
   "cell_type": "markdown",
   "metadata": {},
   "source": [
    "# This notebook goes through the procedure of MR and behavioral data processing.\n",
    "## First - import packages and load data"
   ]
  },
  {
   "cell_type": "code",
   "execution_count": 3,
   "metadata": {},
   "outputs": [],
   "source": [
    "#!pip install numpy pandas matplotlib seaborn sklearn\n",
    "from pathlib import Path\n",
    "import numpy as np\n",
    "import pandas as pd\n",
    "\n",
    "data_directory = Path('../data')\n",
    "mr_data = pd.read_pickle(data_directory / \"mr_data.pickle\")\n",
    "parcels = pd.read_csv(data_directory / \"BNA_with_cerebellum.csv\", index_col=0)\n"
   ]
  },
  {
   "cell_type": "code",
   "execution_count": 4,
   "metadata": {},
   "outputs": [],
   "source": [
    "# cols = mr_data.columns.to_list()\n",
    "# cols = [c if c not in parcels.Label.astype(str).values else int(c) for c in cols]\n",
    "# mr_data.columns = cols\n",
    "# mr_data = pd.read_csv(data_directory / 'mr_data.csv',index_col=0)\n",
    "# mr_data[\"session\"] = pd.to_datetime(mr_data[\"session\"])\n",
    "# mr_data[[\"height\",\"weight\",\"age\"]] = mr_data[[\"height\",\"weight\",\"age\"]].astype(float)\n",
    "# mr_data.to_pickle(data_directory / 'mr_data.pickle')"
   ]
  },
  {
   "cell_type": "markdown",
   "metadata": {},
   "source": [
    "## Meteorological data\n",
    "We'll use the [Meteostat](https://dev.meteostat.net/) package to extract [hourly data](https://dev.meteostat.net/python/hourly.html#data-structure) regarding weather and climate."
   ]
  },
  {
   "cell_type": "code",
   "execution_count": 5,
   "metadata": {},
   "outputs": [],
   "source": [
    "from meteostat import Point, Hourly\n",
    "\n",
    "# Start and end dates of available scans\n",
    "start_date = mr_data[\"session\"].min()\n",
    "end_date = mr_data[\"session\"].max()\n",
    "\n",
    "# Location of the weather station\n",
    "tel_aviv = {'lon': 34.8, 'lat': 32.0833}\n",
    "point = Point(**tel_aviv)\n",
    "\n",
    "# Create a hourly object and fetch the data\n",
    "hourly_met_data = Hourly(point, start_date, end_date).fetch()\n",
    "\n",
    "# Filter only columns that have (at least some) values\n",
    "valid_met_columns = hourly_met_data.columns[~hourly_met_data.isnull().all()]\n",
    "hourly_met_data = hourly_met_data[valid_met_columns]\n",
    "\n",
    "# Fill missing values with the median of the column\n",
    "hourly_met_data.fillna(hourly_met_data.median(), inplace=True)\n",
    "\n",
    "hourly_met_data.reset_index(inplace=True)"
   ]
  },
  {
   "cell_type": "markdown",
   "metadata": {},
   "source": [
    "## Combine MRI, behavioral and meteorological data."
   ]
  },
  {
   "cell_type": "code",
   "execution_count": 6,
   "metadata": {},
   "outputs": [],
   "source": [
    "data = mr_data.copy()\n",
    "for i, row in data.iterrows():\n",
    "    # Find the closest date in the hourly data\n",
    "    closest_datetime = abs(row[\"session\"] - hourly_met_data[\"time\"]).idxmin()\n",
    "    # Add the hourly meteorological data to the dataframe\n",
    "    data.loc[i, valid_met_columns] = hourly_met_data.loc[closest_datetime, valid_met_columns].astype(float)\n",
    "\n",
    "data[\"day\"] = data[\"session\"].dt.day\n",
    "data[\"hour\"] = data[\"session\"].dt.hour\n",
    "data[\"dayofweek\"] = data[\"session\"].dt.dayofweek"
   ]
  },
  {
   "cell_type": "code",
   "execution_count": 7,
   "metadata": {},
   "outputs": [
    {
     "name": "stdout",
     "output_type": "stream",
     "text": [
      "Scaling age\n",
      "Scaling height\n",
      "Scaling weight\n",
      "Scaling hour\n",
      "Scaling dayofweek\n",
      "Scaling day\n",
      "Scaling temp\n",
      "Scaling dwpt\n",
      "Scaling rhum\n",
      "Scaling prcp\n",
      "Scaling wdir\n",
      "Scaling wspd\n",
      "Scaling wpgt\n",
      "Scaling pres\n",
      "Scaling coco\n"
     ]
    }
   ],
   "source": [
    "from sklearn import preprocessing\n",
    "\n",
    "columns_to_scale = [\"age\", \"height\", \"weight\", \"hour\", \"dayofweek\", \"day\"] + valid_met_columns.to_list()\n",
    "for col in columns_to_scale:\n",
    "    print(f\"Scaling {col}\")\n",
    "    data[f\"{col}_scaled\"] = preprocessing.scale(data[col].values)"
   ]
  },
  {
   "cell_type": "code",
   "execution_count": 8,
   "metadata": {},
   "outputs": [],
   "source": [
    "data.to_pickle(data_directory / 'data_combined.pickle')"
   ]
  }
 ],
 "metadata": {
  "kernelspec": {
   "display_name": "Python 3.9.2 ('venv': venv)",
   "language": "python",
   "name": "python3"
  },
  "language_info": {
   "codemirror_mode": {
    "name": "ipython",
    "version": 3
   },
   "file_extension": ".py",
   "mimetype": "text/x-python",
   "name": "python",
   "nbconvert_exporter": "python",
   "pygments_lexer": "ipython3",
   "version": "3.9.2"
  },
  "orig_nbformat": 4,
  "vscode": {
   "interpreter": {
    "hash": "18112318e1e5c66abc775daed63e59cc52f7d3c2b877d968331c853d0331fe5f"
   }
  }
 },
 "nbformat": 4,
 "nbformat_minor": 2
}
