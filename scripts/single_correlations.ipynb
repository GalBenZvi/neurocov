{
 "cells": [
  {
   "cell_type": "markdown",
   "metadata": {},
   "source": []
  },
  {
   "cell_type": "code",
   "execution_count": 1,
   "metadata": {},
   "outputs": [],
   "source": [
    "import pandas as pd\n",
    "from pathlib import Path\n",
    "from neurocov.vis.utils import df_to_nifti, nifti_to_surface_png\n",
    "\n",
    "metric = \"md\"\n",
    "\n",
    "data = pd.read_pickle(\"../data/data_combined.pickle\").query(\"metric == @metric\").drop(\"metric\",axis=1)\n",
    "parcels = pd.read_csv(\"../data/BNA_with_cerebellum.csv\",index_col=0)\n",
    "atlas_image_path = \"../data/BN_Atlas_274_combined_1mm.nii.gz\"\n",
    "\n",
    "output_directory = Path(f\"../results/single_correlations/{metric}\")\n",
    "output_directory.mkdir(exist_ok=True,parents=True)"
   ]
  },
  {
   "cell_type": "code",
   "execution_count": 2,
   "metadata": {},
   "outputs": [],
   "source": [
    "from mayavi import mlab\n",
    "mlab.close(all=True)"
   ]
  },
  {
   "cell_type": "code",
   "execution_count": 3,
   "metadata": {},
   "outputs": [
    {
     "name": "stdout",
     "output_type": "stream",
     "text": [
      "Converting dataframe to nifti...\n",
      "        Matching column: Label.\n",
      "        Value column: r.\n"
     ]
    },
    {
     "name": "stderr",
     "output_type": "stream",
     "text": [
      "274it [00:03, 82.38it/s]\n"
     ]
    },
    {
     "name": "stdout",
     "output_type": "stream",
     "text": [
      "Converting dataframe to nifti...\n",
      "        Matching column: Label.\n",
      "        Value column: r.\n"
     ]
    },
    {
     "name": "stderr",
     "output_type": "stream",
     "text": [
      "274it [00:02, 91.84it/s]\n"
     ]
    },
    {
     "name": "stdout",
     "output_type": "stream",
     "text": [
      "Converting dataframe to nifti...\n",
      "        Matching column: Label.\n",
      "        Value column: r.\n"
     ]
    },
    {
     "name": "stderr",
     "output_type": "stream",
     "text": [
      "274it [00:03, 84.75it/s]\n"
     ]
    },
    {
     "name": "stdout",
     "output_type": "stream",
     "text": [
      "Converting dataframe to nifti...\n",
      "        Matching column: Label.\n",
      "        Value column: r.\n"
     ]
    },
    {
     "name": "stderr",
     "output_type": "stream",
     "text": [
      "274it [00:03, 88.24it/s]\n"
     ]
    },
    {
     "name": "stdout",
     "output_type": "stream",
     "text": [
      "Converting dataframe to nifti...\n",
      "        Matching column: Label.\n",
      "        Value column: r.\n"
     ]
    },
    {
     "name": "stderr",
     "output_type": "stream",
     "text": [
      "274it [00:02, 93.34it/s]\n"
     ]
    },
    {
     "name": "stdout",
     "output_type": "stream",
     "text": [
      "Converting dataframe to nifti...\n",
      "        Matching column: Label.\n",
      "        Value column: r.\n"
     ]
    },
    {
     "name": "stderr",
     "output_type": "stream",
     "text": [
      "274it [00:03, 90.58it/s]\n"
     ]
    },
    {
     "name": "stdout",
     "output_type": "stream",
     "text": [
      "Converting dataframe to nifti...\n",
      "        Matching column: Label.\n",
      "        Value column: r.\n"
     ]
    },
    {
     "name": "stderr",
     "output_type": "stream",
     "text": [
      "274it [00:02, 94.20it/s]\n"
     ]
    },
    {
     "name": "stdout",
     "output_type": "stream",
     "text": [
      "Converting dataframe to nifti...\n",
      "        Matching column: Label.\n",
      "        Value column: r.\n"
     ]
    },
    {
     "name": "stderr",
     "output_type": "stream",
     "text": [
      "274it [00:03, 89.22it/s]\n"
     ]
    },
    {
     "name": "stdout",
     "output_type": "stream",
     "text": [
      "Converting dataframe to nifti...\n",
      "        Matching column: Label.\n",
      "        Value column: r.\n"
     ]
    },
    {
     "name": "stderr",
     "output_type": "stream",
     "text": [
      "274it [00:02, 97.22it/s] \n"
     ]
    },
    {
     "name": "stdout",
     "output_type": "stream",
     "text": [
      "Converting dataframe to nifti...\n",
      "        Matching column: Label.\n",
      "        Value column: r.\n"
     ]
    },
    {
     "name": "stderr",
     "output_type": "stream",
     "text": [
      "274it [00:03, 85.54it/s]\n"
     ]
    },
    {
     "name": "stdout",
     "output_type": "stream",
     "text": [
      "Converting dataframe to nifti...\n",
      "        Matching column: Label.\n",
      "        Value column: r.\n"
     ]
    },
    {
     "name": "stderr",
     "output_type": "stream",
     "text": [
      "274it [00:03, 85.35it/s]\n"
     ]
    },
    {
     "name": "stdout",
     "output_type": "stream",
     "text": [
      "Converting dataframe to nifti...\n",
      "        Matching column: Label.\n",
      "        Value column: r.\n"
     ]
    },
    {
     "name": "stderr",
     "output_type": "stream",
     "text": [
      "274it [00:03, 90.26it/s]\n"
     ]
    },
    {
     "name": "stdout",
     "output_type": "stream",
     "text": [
      "Converting dataframe to nifti...\n",
      "        Matching column: Label.\n",
      "        Value column: r.\n"
     ]
    },
    {
     "name": "stderr",
     "output_type": "stream",
     "text": [
      "274it [00:02, 91.78it/s] \n"
     ]
    },
    {
     "name": "stdout",
     "output_type": "stream",
     "text": [
      "Converting dataframe to nifti...\n",
      "        Matching column: Label.\n",
      "        Value column: r.\n"
     ]
    },
    {
     "name": "stderr",
     "output_type": "stream",
     "text": [
      "274it [00:03, 87.79it/s]\n"
     ]
    },
    {
     "name": "stdout",
     "output_type": "stream",
     "text": [
      "Converting dataframe to nifti...\n",
      "        Matching column: Label.\n",
      "        Value column: r.\n"
     ]
    },
    {
     "name": "stderr",
     "output_type": "stream",
     "text": [
      "274it [00:02, 96.15it/s] \n"
     ]
    }
   ],
   "source": [
    "targets = data.filter(regex=\"scaled\").columns\n",
    "for target in targets:\n",
    "    out_file = output_directory/f\"{target}_correlations.nii.gz\"\n",
    "    # if Path(out_file).exists():\n",
    "    #     continue\n",
    "    stats = parcels.copy()\n",
    "    stats[\"r\"] = data[parcels.Label.values].apply(lambda x: x.corr(data[target])).values\n",
    "    img = df_to_nifti(stats, atlas_image_path, \"r\", match_by=\"Label\")\n",
    "    img.to_filename(out_file)\n",
    "    nifti_to_surface_png(out_file, output_directory/f\"{target}_correlations.png\")\n",
    "    # break"
   ]
  }
 ],
 "metadata": {
  "kernelspec": {
   "display_name": "Python 3.9.2 ('venv': venv)",
   "language": "python",
   "name": "python3"
  },
  "language_info": {
   "codemirror_mode": {
    "name": "ipython",
    "version": 3
   },
   "file_extension": ".py",
   "mimetype": "text/x-python",
   "name": "python",
   "nbconvert_exporter": "python",
   "pygments_lexer": "ipython3",
   "version": "3.9.2"
  },
  "orig_nbformat": 4,
  "vscode": {
   "interpreter": {
    "hash": "18112318e1e5c66abc775daed63e59cc52f7d3c2b877d968331c853d0331fe5f"
   }
  }
 },
 "nbformat": 4,
 "nbformat_minor": 2
}
