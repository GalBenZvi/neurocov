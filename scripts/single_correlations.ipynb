{
 "cells": [
  {
   "cell_type": "markdown",
   "metadata": {},
   "source": []
  },
  {
   "cell_type": "code",
   "execution_count": 1,
   "metadata": {},
   "outputs": [],
   "source": [
    "import pandas as pd\n",
    "from neurocov.vis.utils import df_to_nifti\n",
    "\n",
    "metric = \"md\"\n",
    "\n",
    "data = pd.read_pickle(\"../data/data_combined.pickle\").query(\"metric == @metric\").drop(\"metric\",axis=1)\n",
    "parcels = pd.read_csv(\"../data/BNA_with_cerebellum.csv\",index_col=0)\n",
    "atlas_image_path = \"../data/BN_Atlas_274_combined_1mm.nii.gz\""
   ]
  },
  {
   "cell_type": "code",
   "execution_count": 2,
   "metadata": {},
   "outputs": [],
   "source": [
    "target = \"temp_scaled\"\n",
    "stats = parcels.copy()\n",
    "stats[\"r\"] = data[parcels.Label.values].apply(lambda x: x.corr(data[target])).values"
   ]
  },
  {
   "cell_type": "code",
   "execution_count": 3,
   "metadata": {},
   "outputs": [
    {
     "name": "stdout",
     "output_type": "stream",
     "text": [
      "Converting dataframe to nifti...\n",
      "    Matching column: Label.\n",
      "    Value column: r.\n"
     ]
    },
    {
     "name": "stderr",
     "output_type": "stream",
     "text": [
      "274it [00:02, 91.75it/s]\n"
     ]
    }
   ],
   "source": [
    "img = df_to_nifti(stats, atlas_image_path, \"r\", \"Label\")"
   ]
  },
  {
   "cell_type": "code",
   "execution_count": 5,
   "metadata": {},
   "outputs": [],
   "source": [
    "img.to_filename(f\"../results/{metric}-{target}_correlations.nii.gz\")"
   ]
  }
 ],
 "metadata": {
  "kernelspec": {
   "display_name": "Python 3.9.2 ('venv': venv)",
   "language": "python",
   "name": "python3"
  },
  "language_info": {
   "codemirror_mode": {
    "name": "ipython",
    "version": 3
   },
   "file_extension": ".py",
   "mimetype": "text/x-python",
   "name": "python",
   "nbconvert_exporter": "python",
   "pygments_lexer": "ipython3",
   "version": "3.9.2"
  },
  "orig_nbformat": 4,
  "vscode": {
   "interpreter": {
    "hash": "18112318e1e5c66abc775daed63e59cc52f7d3c2b877d968331c853d0331fe5f"
   }
  }
 },
 "nbformat": 4,
 "nbformat_minor": 2
}
